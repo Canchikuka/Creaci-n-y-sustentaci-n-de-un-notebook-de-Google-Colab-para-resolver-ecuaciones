{
  "nbformat": 4,
  "nbformat_minor": 0,
  "metadata": {
    "colab": {
      "provenance": [],
      "authorship_tag": "ABX9TyOCDZxIiV1rnC4mvL6+KaJh",
      "include_colab_link": true
    },
    "kernelspec": {
      "name": "python3",
      "display_name": "Python 3"
    },
    "language_info": {
      "name": "python"
    }
  },
  "cells": [
    {
      "cell_type": "markdown",
      "metadata": {
        "id": "view-in-github",
        "colab_type": "text"
      },
      "source": [
        "<a href=\"https://colab.research.google.com/github/Canchikuka/Creaci-n-y-sustentaci-n-de-un-notebook-de-Google-Colab-para-resolver-ecuaciones/blob/main/Creaci%C3%B3n_y_sustentaci%C3%B3n_de_un_notebook_de_Google_Colab_para_resolver_ecuaciones_ipyn.ipynb\" target=\"_parent\"><img src=\"https://colab.research.google.com/assets/colab-badge.svg\" alt=\"Open In Colab\"/></a>"
      ]
    },
    {
      "cell_type": "code",
      "execution_count": null,
      "metadata": {
        "id": "YM5v9Fc8OtfJ"
      },
      "outputs": [],
      "source": []
    }
  ]
}